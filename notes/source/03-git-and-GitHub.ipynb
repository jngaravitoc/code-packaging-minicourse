{
 "cells": [
  {
   "cell_type": "markdown",
   "metadata": {},
   "source": [
    "# ``git`` and ``GitHub``: version control and social open-source development"
   ]
  },
  {
   "cell_type": "markdown",
   "metadata": {},
   "source": [
    "All code should be under version control to keep track of changes over time and when it comes to version control ``git`` is the dominant system. A 2018 Stack Overflow survey of developers' version control use found that [90% of developers use git](https://insights.stackoverflow.com/survey/2018#work-_-version-control), with the second most popular version control being the older [Subversion](https://subversion.apache.org/), likely mostly to use legacy code that still lives in Subversion repositories. ``git`` is most widely supported by code hosting services, with [GitHub](https://github.com/) only hosting ``git`` repositories and [BitBucket](https://bitbucket.org/) [dropping support](https://bitbucket.org/blog/sunsetting-mercurial-support-in-bitbucket) for the main ``git`` alternative ``mercurial`` in 2020. Basically, ``git`` is now the only game in town."
   ]
  },
  {
   "cell_type": "markdown",
   "metadata": {},
   "source": [
    "## Version control\n",
    "\n",
    "Version control is a system for tracking and making changes to code as the code develops. Version control stores code in a \"repository\" and when using version control, any changes to the code are logged through a code \"commit\" that lists the files changed and provides a brief description of the changes; version control software then generates a \"diff\" with respect to the previous version that gets stored, such that the full history of changes is available for use in the future. Opinions differ on how many changes to include in a single commit (which can consist of changes to multiple files at once), but typically it is best to keep commits as \"atomic\" as possible, that is, create a commit at the smallest change that is reasonable to call a change or improvement to the code. Commits are often as small as changing a single line, perhaps improving the documentation or fixing a small bug. When making changes to existing code, it is always best to keep commits at the level of small changes, so any issues with the changes can later easily be pinned down to a specific change; change commits should typically consist of a few lines to a few dozen lines of edited code at most. When first implementing a new feature, it may make sense to wait to commit until a draft version of the feature is working and one can thus end up with a larger commit, but even then it is best to first implement as bare a skeleton of the new feature as possible and then edit it with small changes until the feature is fully implemented.\n",
    "\n",
    "Early version control systems kept the history of changes stored in a central location while each developer only had a copy of the current version of the code; thus, every code commit and every query of the code's history required interaction with the central location (often remote, requiring an internet connection). Because this meant that one could not commit while offline and even when online was an impediment to quick progress due to the sometimes slow response time of the central location, this led to often bloated commits. One of the great improvements in ``git`` is that each copy of the code's repository contains the full history, leading to a decentralized system where there is no need for a central location. Different copies of a ``git`` repositories are called \"clones\" and with ``git``, clones can communicate among themselves without needing to go through a central place. Of course, the current reality is that most ``git`` repositories have \"main\" copies that are stored in online services like GitHub or Bitbucket, with most of the communication between different clones happening through the main hosted copy of the code. Nevertheless, the fact that each clone contains the entire history means that you can easily commit code and investigate the history without requiring interaction with a centralized repository, and this is therefore much faster and robust against network interruptions.\n",
    "\n",
    "In this chapter, I provide a brief overview of the basic ``git`` features and commands and discuss how to use GitHub to host your scientific code package. Note that this is not supposed to be an exhaustive guide to using ``git``, many such guides already exist."
   ]
  },
  {
   "cell_type": "markdown",
   "metadata": {},
   "source": [
    "## Basic ``git`` use\n",
    "\n",
    "The most basic cycle of ``git`` use is a cycle of ``git pull``, ``git commit``, ``git push``. These commands, respectively, pull in the latest changes from the remote main version of the code repository (e.g., hosted on GitHub), commit new changes made to the code, and push the changes in this commit(s) back to the remote main version. If you add ``git diff`` for looking at the not-yet-committed current set of changes, ``git status`` for interrogating the status of the repository and ``git log`` for looking at the history of the code, and you have well over 95% of my typical usage of ``git``.\n",
    "\n",
    "As discussed above, you should make a commit as soon as enough changes to the code have accrued to make up a reasonable change to the code (again, this could be as simple as fixing a typo in the code, a single character). Simply running\n",
    "```\n",
    "git commit\n",
    "```\n",
    "will open a text editor (set by your ``git`` defaults) that allows you to write a message describing the change; this will perform a single commit for *all* current changes to *all* changed files in the repository. You can avoid the use of the text editor by directly specifying the message as\n",
    "```\n",
    "git commit -m \"A message describing the atomic change made\"\n",
    "```\n",
    "which I personally prefer as a fan of the command line (and of speed!). You can list specific files to only commit changes to those files by adding them to the command as\n",
    "```\n",
    "git commit -m \"A message describing the atomic change made\" file1.py file2.py\n",
    "```\n",
    "It is good practice to *always specify the files you are committing changes for* rather than not specifying any files or specifying a folder (which would commit changes to all files in that folder). This way, you don't end up accidentally committing changes made to other files that are unrelated to the current commit (we will see [below](#Some-useful-advanced-git-features) how you can even split up changes in a single files into different commits).\n",
    "\n",
    "Before you can start committing changes to files, you need to tell ``git`` about the existence of the file in the first place (typically soon after you create the file, in preparation for your first commit of the file). This is done using ``git add`` which you call with\n",
    "```\n",
    "git add file1.py\n",
    "```\n",
    "and you can also list multiple files. Even though you specify a directory and you can use wildcards, it is again good practice to always explicitly list all files that you are adding, rather than an entire folder or more, because that way you will invariably end up adding files that you did not want to add and removing them again can be difficult.\n",
    "\n",
    "When your code is centrally hosted (as it should be!), each coding session should start with a ``git pull`` to pull in changes in the remote main repository that have not yet been added to your clone of the repository. If you are the sole developer of a code, this may seem silly, but is again good practice to always do this such that it becomes muscle memory and because even if you are the sole developer, you are likely to be developing the code on multiple machines (a personal laptop, a desktop at work, a remote server for running large jobs, ...) and this keeps the code in sync. When you have cloned the code from GitHub and are working in the master branch, a simple\n",
    "```\n",
    "git pull\n",
    "```\n",
    "will suffice to pull in remote changes, but in general you can specify both the location of the remote reposiroty and the branch. For example, typically the simple ``git pull`` will be equivalent to\n",
    "```\n",
    "git pull origin master\n",
    "```\n",
    "which tells ``git`` to pull changes from the remote repository referenced as \"origin\" and to pull changes from the master branch.\n",
    "\n",
    "After you have made one or more commits, you will want to push these commits back to the remote main repository. Before you do that, it is good practice to again first do ``git pull`` to pull in any changes to the remote repository that may have occurred while you were coding, so you can resolve any conflicts before pushing your own changes (and possibly having them be rejected if there is a conflict). Once you have done this, you push your commits with\n",
    "```\n",
    "git push\n",
    "```\n",
    "which is again typically a short cut for the full\n",
    "```\n",
    "git push origin master\n",
    "```\n",
    "\n",
    "With just these four ``git`` commands you can get most of the basic functionality of ``git`` version control. Further useful basic commands are ``git diff``, ``git status``, and ``git log``. The ``git diff`` command provides a \"diff\" showing the difference between your clone's current state and the last commit; thus, it shows the changes you have made since the last commit. Depending on your setup, this diff will simply have '-' lines and '+' lines to show lines that were removed and added (a change on a single line given both a removal of the old line and an addition of the edited new line) or they may be colored red and green. Running\n",
    "```\n",
    "git diff\n",
    "```\n",
    "without any additional arguments goes through all files that were changed, but you can look at changes in a single file or in a set of files by specifying them in the call, e.g., as\n",
    "```\n",
    "git diff file1.py\n",
    "```\n",
    "\n",
    "Running ``git status`` gives a brief summary of the current version of your clone. It prints the branch you are on and whether you are up to date with the remote repository's same branch or how many commits ahead of the remote repository you are. It also prints files that have changed since the last commit and files contained in your clone that have not been declared to ``git`` (for example, new files before running ``git add`` will show up in that list; after running ``git add`` they will be listed as newly added). I use ``git status`` *a lot* to remind myself of what I have been doing since the last commit.\n",
    "\n",
    "``git log`` prints a log of the history of changes to the code. Run without any options, it will provide a moderately verbose list of all commits, listing the commit hash (the unique identifier of every commit), the commit's author and date, and the summary that you provided when running ``git commit``. But ``git log``'s output can be highly customized. To get a very succinct listing do\n",
    "```\n",
    "git log --oneline\n",
    "```\n",
    "which will list each commit in an abbreviated manner on a single line. Or use the ``--pretty=`` option to get less or more information, e.g.,\n",
    "```\n",
    "git log --pretty=short\n",
    "```\n",
    "which is similar to the basic output, but does not include the date. "
   ]
  },
  {
   "cell_type": "markdown",
   "metadata": {},
   "source": [
    "## Branches and tags"
   ]
  },
  {
   "cell_type": "markdown",
   "metadata": {},
   "source": [
    "## Some useful advanced ``git`` features\n",
    "\n",
    "\n",
    "``git checkout -- ....``\n",
    "\n",
    "stashing\n",
    "\n",
    "``git add -p``"
   ]
  },
  {
   "cell_type": "markdown",
   "metadata": {},
   "source": [
    "## Using GitHub to build a community for your code"
   ]
  },
  {
   "cell_type": "code",
   "execution_count": null,
   "metadata": {
    "nbsphinx": "hidden"
   },
   "outputs": [],
   "source": []
  }
 ],
 "metadata": {
  "kernelspec": {
   "display_name": "Python 3",
   "language": "python",
   "name": "python3"
  },
  "language_info": {
   "codemirror_mode": {
    "name": "ipython",
    "version": 3
   },
   "file_extension": ".py",
   "mimetype": "text/x-python",
   "name": "python",
   "nbconvert_exporter": "python",
   "pygments_lexer": "ipython3",
   "version": "3.7.3"
  }
 },
 "nbformat": 4,
 "nbformat_minor": 2
}
