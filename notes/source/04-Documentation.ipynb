{
 "cells": [
  {
   "cell_type": "markdown",
   "metadata": {},
   "source": [
    "# Documenting your code and hosting the documentation online\n",
    "\n",
    "Writing good documentation for your code is essential to allowing others to use it and it is crucial for lowering your own burden of supporting users of your code. Having excellent documentation that is easily accessible and that is up-to-date for the latest version of your code at all times allows people to use your code without having to constantly contact you with questions about the code (which many people will anyway not do, but they will rather simply not use your code if they cannot easily figure it out). Documentation is also important for your own use of the code: a few months after you've written a piece of code, it will not be immediately clear any longer how to use it (for me this can be as quick as a few days!), so by writing good documentation, you will also help *yourself* save time in the future from having to reconstruct how your own code works.\n",
    "\n",
    "In this chapter, I first discuss the basics of how to write good documentation and then I discuss various software tools that make writing good, up-to-date documentation easy and that allow you to share the documentation online. "
   ]
  },
  {
   "cell_type": "markdown",
   "metadata": {},
   "source": [
    "## Basics of good documentation\n",
    "\n",
    "Before starting a discussion of what makes for good code documentation, it is worth re-stressing the importance of *making your code easy and intuitive to use*, with many of the basic features taking at most a few lines to run. When that is the case, users will have to consult the documentation much less often than when your code is difficult to use or when even using a basic feature of your code requires them to write dozens of lines of code (e.g., setting up many related objects or many configuration options in a complicated way). It will also make your documentation much easier to write, because you will be able to illustrate your code's use with short, copyable code snippets, which makes the documentation much more pleasurable to read.\n",
    "\n",
    "What's most important about documentation is that it is ***as complete as possible* and *as up-to-date as possible***. Both of these are difficult to achieve, which is why using automated tools such as those discussed below is useful, because they can help significantly with achieving this goal. It is important that your documentation is as complete as possible, because otherwise users will run into undocumented features and need to contact you or give up. The only reasonable features to exclude from the strict complete-documentation requirement are internal features that users shouldn't use; even then it is good practice to document them (albeit perhaps at a lower level of formatting clarity) for your own and other code developers' use. Documentation should be up-to-date to avoid mis-use of your code after major changes and to again avoid user frustration when they find that the documentation is out-of-date with the code and they cannot figure out how to use it. In addition to using automation tools to help you out, the best way to achieve complete and up-to-date documentation is to start writing documentation as soon as you implement new features and even *before* you implement them. That is, ideally you would write a first draft of the documentation of a function or class before implementing a first version of it, which has the added benefit of requiring you to think through carefully what you want the function or class to do, what inputs to take, and what outputs to return (similarly for tests later, ideally one would write them before writing the code). This is a hard ideal to achieve in practice, but it is good to write at least some documentation in parallel with the first implementation of the code. That way, your documentation will be complete. Keeping it up-to-date requires you to make sure to immediately update the documentation when you change the function.\n",
    "\n",
    "Good documentation should cover at least the following sub-components:\n",
    "\n",
    "* *A guide to the installation of your code*, discussing any pre-requisites. Your code should be able to be installed with [standard installation commands](01-Introduction.ipynb#The-dos-and-don’ts-of-software-package-development), but even so it is good to list the commands (especially if you have both ``pip`` and ``conda`` installation options available, it is necessary to alert users). \n",
    "\n",
    "* *A quick-start guide and a set of brief tutorials*: This helps users to get started using your code quickly by copying and pasting example code and it's a good way to show off what your code can do without requiring people to run it.\n",
    "\n",
    "* *A full API* (Application programming interface): a complete listing of all of your code's functions, classes, and their methods. This is a reference guide that users can consult to learn about exactly how each feature works and what its options are.\n",
    "\n",
    "Your code's **installation guide** should cover the typical way in which your package is installed. This can be as easy as expliclty stating that your code should be installed with ``pip`` as\n",
    "```\n",
    "pip install exampy\n",
    "```\n",
    "(for our example package from [Chapter 2](02-Package-Structure.ipynb), note that this doesn't exist on PyPI and is just used as an example here). This may seem obvious to you, but it is useful to explicitly give the command, people love to simply copy-and-paste code (and we will show below how to add automatic copy-to-clipboard buttons like the one above). If your code has dependencies that wouldn't be easily and unobtrusively installed by ``pip`` (which will attempt to install all requirements listed in the ``install_requires`` part of your ``setup.py`` file, as we discussed in Chapter 2](02-Package-Structure.ipynb#The-setup.py-file)), then it is useful to list how to install these as well, again giving explicit commands as much as possible, e.g.,\n",
    "```\n",
    "conda install numpy scipy\n",
    "```\n",
    "or\n",
    "```\n",
    "pip install numpy scipy\n",
    "```\n",
    "if your dependencies are ``numpy`` and ``scipy``. Especially if your code requires harder-to-install dependencies or non-Python libraries (like the [GSL](https://www.gnu.org/software/gsl/), which provides many scientific functions in C and is often used in C backends of Python codes), it is helpful to give commands for how to install these on different operating systems (the GSL is now luckily available on ``conda-forge``, so the easiest way to install it is ``conda install -c conda-forge gsl``). The installation guide is also a good place for a 'frequently-asked-questions (FAQ) section with common installation problems. Again, if your code is pure Python with few dependencies, just stating that your code can be installed with ``pip install`` is likely all you need to say here.\n",
    "\n",
    "The **quick-start guide** is a way to show off what your code can do and a place to give your users some code snippets that they can start adapting for their own use. When potential users of your code first look at your code they will be deciding whether or not using your code and going to the trouble of installing it and learning to use it is worth it for them. Therefore, a page in your documentation that demonstrates features of your code while also serving as a way to get started is a good way to get people to start using your code. The key to a good quick-start guide is to keep it brief and simple, but also get to interesting use of your code to show off what it can do; achieving these two somewhat competing goals is again easier if your code is *easy and intuitive* to use, because you can do impressive things with your code with very few keystrokes and, tbus, you can write a good quick-start tutorial that also shows of what amazing things your code can do). It is difficult to keep these quick-start guides updated, so it is worth spending a bit of time carefully thinking what you want it to cover and to only cover very stable features of your code.\n",
    "\n",
    "You can complement the quick-start guide with **a more extensive set of tutorials** that go into more detail. In practice, most outside users of your code (i.e., not yourself or your collaborators) will likely only use features that are clearly documented and for which a usage example exists, because most users will not attain a full understanding of all that your code can do (e.g., when combining different aspects of it that aren't obvious) to allow them to go far beyond the tutorials that you provide. So a set of tutorials is where you can go over all of the most common use cases of your code and all the things that you think people can use your code for. It is important to keep them clear and succinct (with pointers for more advanced use), but it is difficult to write too many tutorials (just like it is difficult to write *too much documentation*), so don't hold back (keeping your own time in mind of course).\n",
    "\n",
    "Finally, **a complete API** should contain documentation for every function and class and every class-method in your code, arranged by sub-module. The objective of this is to fully document your code, so users can get information on the inputs and outputs of all of your code's functionality. The API should be arranged in a logical manner, grouping  functions and classes with similar functionality. This is a part of your documentation where you should do a minimal amount of manual work in the documentation itself, but rather you should use automated tools to directly grab documentation from your code itself, in your functions' and class' *docstrings*, which I discuss next."
   ]
  },
  {
   "cell_type": "markdown",
   "metadata": {},
   "source": [
    "## Python docstrings\n",
    "\n",
    "Python "
   ]
  },
  {
   "cell_type": "markdown",
   "metadata": {},
   "source": [
    "## Using ``sphinx`` to write and generate documentation for your package"
   ]
  },
  {
   "cell_type": "markdown",
   "metadata": {},
   "source": [
    "## Including ``jupyter`` notebooks as part of your documentation\n",
    "\n",
    "``exclude_patterns = ['.ipynb_checkpoints/*']``"
   ]
  },
  {
   "cell_type": "markdown",
   "metadata": {},
   "source": [
    "## Automatically building and hosting your documentation on ``readthedocs.io``"
   ]
  },
  {
   "cell_type": "code",
   "execution_count": null,
   "metadata": {
    "nbsphinx": "hidden"
   },
   "outputs": [],
   "source": []
  }
 ],
 "metadata": {
  "celltoolbar": "Edit Metadata",
  "kernelspec": {
   "display_name": "Python 3",
   "language": "python",
   "name": "python3"
  },
  "language_info": {
   "codemirror_mode": {
    "name": "ipython",
    "version": 3
   },
   "file_extension": ".py",
   "mimetype": "text/x-python",
   "name": "python",
   "nbconvert_exporter": "python",
   "pygments_lexer": "ipython3",
   "version": "3.7.3"
  }
 },
 "nbformat": 4,
 "nbformat_minor": 2
}
