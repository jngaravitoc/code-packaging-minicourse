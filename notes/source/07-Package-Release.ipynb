{
 "cells": [
  {
   "cell_type": "markdown",
   "metadata": {},
   "source": [
    "# Releasing your package\n",
    "\n",
    "Once you have [implemented a bunch of function, classes, and methods](02-Package-Structure.ipynb#Package-layout) in your package and made sure your package can be [installed in the standard way](02-Package-Structure.ipynb#Installing-your-code), once you have set up [version control with git](03-git-and-GitHub.ipynb#Version-control) and you are using [GitHub to develop your code online](03-git-and-GitHub.ipynb#Using-GitHub-to-build-a-community-for-your-code), once you have written [documentation](04-Documentation.ipynb#Basics-of-good-documentation) explaining how to [install and use your code](04-Documentation.ipynb#Using-sphinx-to-write-and-generate-documentation-for-your-package), you have created an [API for all of the functionality in your package](04-Documentation.ipynb#Including-docstrings-into-the-sphinx-documentation) and you are [hosting your package's documentation online](04-Documentation.ipynb#Automatically-building-and-hosting-your-documentation-on-readthedocs.io), once you have written a [comprehensive test suite](05-Tests.ipynb#Testing-your-code) that checks that [your code works as you expect](05-Tests.ipynb#Writing-simple-tests), this test suite [covers a large fraction of your package](05-Tests.ipynb#Test-coverage) and you are using [continuous integration to run your test suite](06-Continuous-Integration.ipynb#Automatically-building-and-testing-your-code:-continuous-integration) automatically upon every change that you make to your code, you are ready to release a first version of your package to the world! \n",
    "\n",
    "Many scientists still release their code by creating a source distribution (a \"tarball\") and linking to it on their website, but this fails to take advantage of the large amount of support in the Python community (and beyond) to make releasing different versions of your code easy and allowing your code to be installed in standard ways on different platforms with minimal headaches for the users of your package. The primary venue for releasing Python packages is the Python Packge Index (``PyPI``) and it is releasing your package on ``PyPI`` that I focus on in this chapter. An additional popular method for releasing your code, especially if it contains compiled code and/or dependencies that are difficult to install, is to make your package installable by Anaconda's ``conda install`` command. The most common way to do this for scientific packages is to use [conda-forge](https://conda-forge.org/), but describing how to get your package onto ``conda-forge`` is beyond the scope of these notes."
   ]
  },
  {
   "cell_type": "markdown",
   "metadata": {},
   "source": [
    "## Versioning your code\n",
    "\n",
    "Before you release a first version of your code, you should decide on how you want to label different versions of your code, because once you release the first version, you'll want to start work on the next version! When we first created the [setup.py file](02-Package-Structure.ipynb#The-setup.py-file), we included a version string, but I will now discuss versioning in a little more detail.\n",
    "\n",
    "Your code's version could be any unique string that states the version (e.g., \"v1\"), but to make your code's version easy to interpret for a wide variety of users and compatible with standard Python functions to process version numbers, your code should follow the [standard Python versioning scheme](https://www.python.org/dev/peps/pep-0440/). Python version strings should follow the format\n",
    "```\n",
    "[N!]N(.N)*[{a|b|rc}N][.postN][.devN]\n",
    "```\n",
    "which I will briefly unpack here. We'll ignore the ``[N!]`` part, the [version epoch](https://www.python.org/dev/peps/pep-0440/#version-epochs), which is only used when packages change the way they version and which the author of these notes has never seen in practice.\n",
    "\n",
    "For released versions, you only have to pay attention to the\n",
    "```\n",
    "N(.N)*\n",
    "```\n",
    "part of the version string. This states that any release can be any string of integers separated by periods (e.g., \"0.1.0\"). While arbitrary lengths are in principle allowed, most packages use either two integers separated by a period (e.g., \"1.0\") or three integers, (e.g., \"2.1.3\"). Upon a release, either the last integer is increased by 1 or one of the earlier integers in the sequence is increased and all following integers are set to 0. So, for example, version \"0.1\" could be increased to either \"0.2\" or to \"1.0\" in the next release, and version \"1.3.2\" could be increased to either of \"2.0.0\", \"1.4.0\", or \"1.3.3\". Note that the version string does *not* contain \"v\", that is, the version is \"1.0.0\", not \"v1.0.0\" (that can be easy to forget!).\n",
    "\n",
    "Standard Python usage of version numbers is *not* to use semantic versioning as advocated by [semver](https://semver.org/), but to use a more loosely defined structure of \"major.minor\" or \"major.minor.patch\" where the \"major\" version is increased only when a package's structure changes dramatically (causing much backwards incompatibility, e.g., Python 2 to Python 3) or when the package matures significantly to deserve a \"1.x.x\" version (having had \"0.x.x\" until then; e.g., [scipy's relatively recent version](https://docs.scipy.org/doc/scipy/reference/release.1.0.0.html#why-1-0-now) \"1.0.0\", 16 years after the first release). Therefore, for most Python packages, major version changes are rare (but some packages update the major version more often, e.g., [astropy](https://docs.astropy.org/en/stable/whatsnew/)). Typical releases will therefore increase the minor version number, e.g., going from version \"1.1\" to \"1.2\". The third integer, called \"patch\" above, indicates small changes such as bug fixes or updates because of dependency changes. Such patch releases would typically be made from a branch of the code created at the latest minor version release to track bug fixes and other small changes, while development of the next minor version continues in the main development branch. \n",
    "\n",
    "The remainder of the possible version string\n",
    "```\n",
    "[{a|b|rc}N][.postN][.devN]\n",
    "```\n",
    "deals with pre- and post-release updates to a package. The ``[{a|b|rc}N]`` part indicates pre-release versions, with ``a`` indicating an alpha release, ``b`` a beta release, and ``rc`` a \"release candidate\". the ``N`` that can optionally follow each of these indicates the N-th version (e.g., \"a2\" would be the second alpha release). Unless you are developing a package with many users and/or that provides essential infrastructure where each release needs to be thoroughly tested, you will typically not make use of these versions (but you could if you want). The ``[.postN]`` is reserved for changes to your code that happen \"post release\". These are changes, not to the source of your code itself, but to the distribution of your code. You can for example create a ``.post1`` release if you forgot to include the License file in your release; if you simply want to add the file, you should create a new release (because a release, once made, is final), but you are not changing any of the code. Finally, the ``[.devN]`` is used to indicate development versions of your code. For example, \"1.1.dev\" is the development version that will lead to release \"1.1\" eventually. Note that there are a bunch of [alternative syntaxes](https://www.python.org/dev/peps/pep-0440/#normalization) allowed by the standard (for example, you can use \"alpha\" instead of \"a\"), but for new versions it's best to follow the actual standard discussed here.\n",
    "\n",
    "One of the advantages of all packages using this standard versioning scheme is that this can be easily parsed by automated parsers, to check, for example, which version of a dependency users have installed on their systems. One way to do this is to use ``setuptools``' [pkg_resources](https://setuptools.readthedocs.io/en/latest/pkg_resources.html), which has a function ``parse_version`` (documented [here](https://setuptools.readthedocs.io/en/latest/pkg_resources.html#parsing-utilities), that returns an object that represents the version and that can be compared to other such objects. For example, we can check that the installed version of ``scipy`` is at least later than version \"0.19\" by doing\n",
    "```\n",
    "from pkg_resources import parse_version\n",
    "import scipy\n",
    "print(parse_version(scipy.__version__) >= parse_version('0.19'))\n",
    "```\n",
    "``parse_version`` correctly deals with development, pre-release, and post-release versions.\n",
    "\n",
    "You should include your package's version in the ``setup.py`` file and define the ``__version__`` attribute in your package's top-level ``__init__.py`` file (``exampy/__init__.py`` in the example package); you will likely also want to define it in the documentation's ``source/conf.py``. Because your package's version then appears in multiple places in your code, you need to remember to update it everywhere when you increment the version number. One way to do this is to make it a part of your release checklist (discussed below), you can also make use of automated tools like [bumpversion](https://github.com/peritus/bumpversion), which can be configured to automatically update the version string in multiple files whenever you invoke ``bumpversion``. "
   ]
  },
  {
   "cell_type": "markdown",
   "metadata": {},
   "source": [
    "## Preparing for your package's release\n",
    "\n",
    "MANIFEST.in"
   ]
  },
  {
   "cell_type": "markdown",
   "metadata": {},
   "source": [
    "## Uploading your package to the Python Package Index (``PyPI``)\n",
    "\n",
    "Mention wheels. Should I figure out how to build them with appveyor and upload?"
   ]
  },
  {
   "cell_type": "code",
   "execution_count": null,
   "metadata": {
    "nbsphinx": "hidden"
   },
   "outputs": [],
   "source": []
  }
 ],
 "metadata": {
  "celltoolbar": "Edit Metadata",
  "kernelspec": {
   "display_name": "Python 3",
   "language": "python",
   "name": "python3"
  },
  "language_info": {
   "codemirror_mode": {
    "name": "ipython",
    "version": 3
   },
   "file_extension": ".py",
   "mimetype": "text/x-python",
   "name": "python",
   "nbconvert_exporter": "python",
   "pygments_lexer": "ipython3",
   "version": "3.7.3"
  }
 },
 "nbformat": 4,
 "nbformat_minor": 2
}
